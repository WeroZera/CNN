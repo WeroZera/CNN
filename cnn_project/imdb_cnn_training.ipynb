{
 "cells": [
  {
   "cell_type": "code",
   "execution_count": 1,
   "id": "a58366c6",
   "metadata": {},
   "outputs": [
    {
     "data": {
      "text/plain": [
       "Main.NN"
      ]
     },
     "metadata": {},
     "output_type": "display_data"
    }
   ],
   "source": [
    "#= Importy i załadowanie danych =#\n",
    "using JLD2\n",
    "using Printf\n",
    "using Statistics\n",
    "using LinearAlgebra\n",
    "\n",
    "include(\"src/AD.jl\")\n",
    "include(\"src/NN.jl\")"
   ]
  },
  {
   "cell_type": "code",
   "execution_count": 2,
   "id": "5cff4f72",
   "metadata": {},
   "outputs": [
    {
     "data": {
      "text/plain": [
       "50"
      ]
     },
     "metadata": {},
     "output_type": "display_data"
    }
   ],
   "source": [
    "#= Przygotowanie danych =#\n",
    "file = load(\"data/imdb_dataset_prepared.jld2\")\n",
    "X_train = Int.(file[\"X_train\"])\n",
    "y_train = vec(Float32.(file[\"y_train\"]))\n",
    "X_test  = Int.(file[\"X_test\"])\n",
    "y_test  = vec(Float32.(file[\"y_test\"]))\n",
    "embeddings = file[\"embeddings\"]\n",
    "vocab = file[\"vocab\"]\n",
    "embedding_dim = size(embeddings, 1)"
   ]
  },
  {
   "cell_type": "code",
   "execution_count": 3,
   "id": "925a78d6",
   "metadata": {},
   "outputs": [
    {
     "data": {
      "text/plain": [
       "Main.NN.DataLoader((Float32[6391.0 286.0 … 11382.0 8311.0; 143.0 286.0 … 4254.0 2891.0; … ; 12849.0 12849.0 … 12849.0 12849.0; 12849.0 12849.0 … 12849.0 12849.0], Float32[0.0, 1.0, 0.0, 0.0, 1.0, 1.0, 0.0, 0.0, 0.0, 1.0  …  0.0, 0.0, 0.0, 0.0, 1.0, 0.0, 0.0, 0.0, 1.0, 1.0]), 64, true, [19964, 5402, 35361, 23755, 17553, 19461, 22961, 37269, 24408, 21520  …  11063, 24113, 37410, 23679, 35494, 31630, 3628, 3882, 15117, 36928])"
      ]
     },
     "metadata": {},
     "output_type": "display_data"
    }
   ],
   "source": [
    "dataset = NN.DataLoader((X_train, y_train), batchsize=64, shuffle=true)"
   ]
  },
  {
   "cell_type": "code",
   "execution_count": 4,
   "id": "de759ae8",
   "metadata": {},
   "outputs": [
    {
     "data": {
      "text/plain": [
       "Main.NN.Chain(Any[var\"#11#13\"(), Main.NN.Embedding(12849, 50, Float32[0.90951 -0.58014 … 0.014323 0.0; -0.20702 -1.1316 … -0.74624 0.0; … ; -0.60396 0.1722 … -0.079873 0.0; -0.31136 1.2622 … -0.89164 0.0], Int64[]), var\"#12#14\"(), Main.NN.Conv1D(3, 50, 8, Float32[-0.021721082 0.044999346 … -0.0002444767 -0.079383954; 0.07462665 -0.07178088 … 0.095087536 -0.13069274; 0.17371291 0.052133918 … 0.18355247 0.17799269;;; 0.083984345 -0.02572545 … 0.0016817462 0.027158981; -0.027506908 -0.061476417 … -0.09277021 -0.16816397; 0.18956283 -0.018067691 … -0.29008913 0.17985679;;; -0.110902116 -0.053898543 … -0.084604725 0.025174089; 0.0110642845 -0.0029188478 … -0.01599332 -0.14412504; -0.027440036 -0.16537227 … 0.12081164 -0.06867169;;; -0.020461172 -0.047929853 … -0.115899384 0.17314582; -0.053376526 -0.023527045 … -0.06317117 0.11143744; 0.060698405 -0.033579405 … -0.010276429 -0.017855657;;; 0.005213285 -0.0044138627 … -0.06694151 0.09043723; -0.002147967 -0.27466884 … 0.04673689 -0.0053179506; -0.036188424 0.30445355 … -0.049906492 0.081165835;;; 0.1643474 -0.1254966 … -0.027123254 0.047658373; 0.0965243 -0.061641928 … 0.22661877 -0.070802465; 0.15320419 0.04413032 … -0.104624495 -0.06139781;;; 0.22033118 -0.014444669 … -0.2164587 0.036887426; -0.02934798 0.1575097 … -0.089570574 0.15209797; 0.19066136 0.16181044 … 0.1028613 -0.18177226;;; -0.018847626 0.03035686 … 0.016469873 0.027425611; 0.06317075 0.08237287 … -0.039122384 0.00016610073; -0.15278427 -0.028591383 … 0.07200277 -0.14584106], Float32[0.0, 0.0, 0.0, 0.0, 0.0, 0.0, 0.0, 0.0], Main.AD.relu, Array{Float32, 3}(undef, 0, 0, 0), Array{Float32, 3}(undef, 0, 0, 0)), Main.NN.MaxPool1D(8, Array{Float32, 3}(undef, 0, 0, 0), 0×0×0 BitArray{3}), Main.NN.flatten, Main.NN.Dense(Float32[-0.0021848334 -0.14641821 … 0.07845697 -0.19493628], Float32[0.0], Main.AD.sigmoid, 0.0001f0, Matrix{Float32}(undef, 0, 0), Matrix{Float32}(undef, 0, 0), Matrix{Float32}(undef, 0, 0))], Any[nothing, nothing, nothing, nothing, nothing, nothing, nothing], Any[nothing, nothing, nothing, nothing, nothing, nothing, nothing])"
      ]
     },
     "metadata": {},
     "output_type": "display_data"
    }
   ],
   "source": [
    "model = NN.Chain(\n",
    "    x -> Int.(x),\n",
    "    NN.Embedding(length(vocab), embedding_dim, embeddings),\n",
    "    x -> permutedims(x, (2, 1, 3)),\n",
    "    NN.Conv1D(3, embedding_dim, 8, AD.relu),\n",
    "    NN.MaxPool1D(8),\n",
    "    NN.flatten,\n",
    "    NN.Dense(128, 1, AD.sigmoid)\n",
    ")"
   ]
  },
  {
   "cell_type": "code",
   "execution_count": 5,
   "id": "e2de8e04",
   "metadata": {},
   "outputs": [
    {
     "data": {
      "text/plain": [
       "accuracy (generic function with 1 method)"
      ]
     },
     "metadata": {},
     "output_type": "display_data"
    }
   ],
   "source": [
    "accuracy(m, x, y) = mean((vec(m(x)) .> 0.5) .== (y .> 0.5))"
   ]
  },
  {
   "cell_type": "code",
   "execution_count": 6,
   "id": "e275a2f5",
   "metadata": {},
   "outputs": [
    {
     "name": "stdout",
     "output_type": "stream",
     "text": [
      "Epoch: 1 (56.46s) \tTrain: (l: 0.59, a: 0.68) \tTest: (l: 0.50, a: 0.76) \tMemory allocated: 24791.629 MB\n",
      "Epoch: 2 (77.01s) \tTrain: (l: 0.48, a: 0.77) \tTest: (l: 0.46, a: 0.79) \tMemory allocated: 24372.825 MB\n",
      "Epoch: 3 (48.84s) \tTrain: (l: 0.44, a: 0.79) \tTest: (l: 0.43, a: 0.80) \tMemory allocated: 24380.843 MB\n",
      "Epoch: 4 (45.93s) \tTrain: (l: 0.42, a: 0.81) \tTest: (l: 0.41, a: 0.81) \tMemory allocated: 24385.158 MB\n",
      "Epoch: 5 (47.60s) \tTrain: (l: 0.39, a: 0.83) \tTest: (l: 0.39, a: 0.82) \tMemory allocated: 24388.209 MB\n"
     ]
    }
   ],
   "source": [
    "#= Trening modelu =#\n",
    "opt = NN.Adam(Float32(0.001))\n",
    "epochs = 5\n",
    "NN.train_model(model, dataset, X_test, y_test, opt, epochs)"
   ]
  }
 ],
 "metadata": {
  "kernelspec": {
   "display_name": "Julia 1.11.5",
   "language": "julia",
   "name": "julia-1.11"
  },
  "language_info": {
   "file_extension": ".jl",
   "mimetype": "application/julia",
   "name": "julia",
   "version": "1.11.5"
  }
 },
 "nbformat": 4,
 "nbformat_minor": 5
}
