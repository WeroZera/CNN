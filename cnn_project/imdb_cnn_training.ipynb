{
 "cells": [
  {
   "cell_type": "code",
   "execution_count": 21,
   "id": "a58366c6",
   "metadata": {},
   "outputs": [
    {
     "name": "stderr",
     "output_type": "stream",
     "text": [
      "WARNING: replacing module AD.\n",
      "WARNING: replacing module NN.\n"
     ]
    },
    {
     "data": {
      "text/plain": [
       "Main.NN"
      ]
     },
     "execution_count": 21,
     "metadata": {},
     "output_type": "execute_result"
    }
   ],
   "source": [
    "#= Importy i załadowanie danych =#\n",
    "using JLD2\n",
    "using Printf\n",
    "using Statistics\n",
    "using LinearAlgebra\n",
    "\n",
    "include(\"src/AD.jl\")\n",
    "include(\"src/NN.jl\")"
   ]
  },
  {
   "cell_type": "code",
   "execution_count": 22,
   "id": "5cff4f72",
   "metadata": {},
   "outputs": [
    {
     "data": {
      "text/plain": [
       "50"
      ]
     },
     "execution_count": 22,
     "metadata": {},
     "output_type": "execute_result"
    }
   ],
   "source": [
    "#= Przygotowanie danych =#\n",
    "file = load(\"data/imdb_dataset_prepared.jld2\")\n",
    "X_train = Int.(file[\"X_train\"])\n",
    "y_train = vec(Float32.(file[\"y_train\"]))\n",
    "X_test  = Int.(file[\"X_test\"])\n",
    "y_test  = vec(Float32.(file[\"y_test\"]))\n",
    "embeddings = file[\"embeddings\"]\n",
    "vocab = file[\"vocab\"]\n",
    "embedding_dim = size(embeddings, 1)"
   ]
  },
  {
   "cell_type": "code",
   "execution_count": 23,
   "id": "925a78d6",
   "metadata": {},
   "outputs": [
    {
     "data": {
      "text/plain": [
       "Main.NN.DataLoader((Float32[6391.0 286.0 … 11382.0 8311.0; 143.0 286.0 … 4254.0 2891.0; … ; 12849.0 12849.0 … 12849.0 12849.0; 12849.0 12849.0 … 12849.0 12849.0], Float32[0.0, 1.0, 0.0, 0.0, 1.0, 1.0, 0.0, 0.0, 0.0, 1.0  …  0.0, 0.0, 0.0, 0.0, 1.0, 0.0, 0.0, 0.0, 1.0, 1.0]), 64, true, [19759, 38382, 136, 884, 26637, 29063, 752, 7925, 30625, 35172  …  27258, 5665, 6175, 33858, 34653, 23892, 13704, 36649, 25407, 39177])"
      ]
     },
     "execution_count": 23,
     "metadata": {},
     "output_type": "execute_result"
    }
   ],
   "source": [
    "dataset = NN.DataLoader((X_train, y_train), batchsize=64, shuffle=true)"
   ]
  },
  {
   "cell_type": "code",
   "execution_count": 24,
   "id": "de759ae8",
   "metadata": {},
   "outputs": [
    {
     "data": {
      "text/plain": [
       "Main.NN.Chain(Any[var\"#13#15\"(), Main.NN.Embedding(12849, 50, Float32[0.90951 -0.58014 … 0.014323 0.0; -0.20702 -1.1316 … -0.74624 0.0; … ; -0.60396 0.1722 … -0.079873 0.0; -0.31136 1.2622 … -0.89164 0.0], Int64[], Float32[0.0 0.0 … 0.0 0.0; 0.0 0.0 … 0.0 0.0; … ; 0.0 0.0 … 0.0 0.0; 0.0 0.0 … 0.0 0.0]), var\"#14#16\"(), Main.NN.Conv1D(3, 50, 8, Float32[-0.17211856 -0.0064253253 … -0.05562423 -0.08469726; -0.08166572 0.034175422 … 0.22911519 -0.06999489; -0.01276053 0.053518537 … -0.0454837 0.14835237;;; 0.0054890173 0.22387534 … -0.15616374 -0.23324706; -0.07497164 0.18194051 … 0.19667698 -0.019543901; 0.03380009 0.042077277 … 0.041229825 0.06587537;;; -0.06079337 0.12012959 … 0.06387137 0.021520622; 0.095071785 0.10076227 … 0.13150492 -0.015644703; -0.089909546 -0.2149365 … -0.011547326 0.07722337;;; -0.029296499 0.013090888 … 0.106293894 0.09276467; -0.03304062 0.17795461 … -0.025395023 -0.0041076024; 0.12903029 0.06062223 … 0.038451802 0.25741935;;; -0.10302168 0.032499105 … 0.009498953 -0.0766443; -0.04844573 -0.08415271 … 0.091528565 0.050643325; -0.165414 -0.05639321 … -0.06222276 0.21558714;;; 0.11741009 0.24880788 … -0.04334242 0.06745259; -0.021334762 -0.19138816 … 0.010111161 0.087494; -0.09335758 -0.09632146 … 0.08642748 -0.2052959;;; -0.050212234 -0.17365713 … 0.10180509 -0.16910656; 0.16572253 -0.35686252 … 0.080906644 -0.06150877; -0.02903524 -0.0066279056 … 0.16448626 0.046502978;;; 0.021578306 0.07989429 … -0.030606575 0.12453194; 0.15176272 0.11882584 … -0.2524487 0.08355174; -0.06970956 0.01659707 … -0.0811683 0.09245963], Float32[0.0, 0.0, 0.0, 0.0, 0.0, 0.0, 0.0, 0.0], Main.AD.relu, Array{Float32, 3}(undef, 0, 0, 0), Array{Float32, 3}(undef, 0, 0, 0), Matrix{Float32}(undef, 0, 0), Matrix{Float32}(undef, 0, 0)), Main.NN.MaxPool1D(8, Array{Float32, 3}(undef, 0, 0, 0), 0×0×0 BitArray{3}, Array{Float32, 3}(undef, 0, 0, 0)), Main.NN.flatten, Main.NN.Dense(Float32[-0.12634598 -0.11740942 … 0.0049224384 -0.1502758], Float32[0.0], Main.AD.sigmoid, 0.0001f0, Matrix{Float32}(undef, 0, 0), Matrix{Float32}(undef, 0, 0), Matrix{Float32}(undef, 0, 0), Matrix{Float32}(undef, 0, 0))], Any[nothing, nothing, nothing, nothing, nothing, nothing, nothing], Any[nothing, nothing, nothing, nothing, nothing, nothing, nothing])"
      ]
     },
     "execution_count": 24,
     "metadata": {},
     "output_type": "execute_result"
    }
   ],
   "source": [
    "model = NN.Chain(\n",
    "    x -> Int.(x),\n",
    "    NN.Embedding(length(vocab), embedding_dim, embeddings),\n",
    "    x -> permutedims(x, (2, 1, 3)),\n",
    "    NN.Conv1D(3, embedding_dim, 8, AD.relu),\n",
    "    NN.MaxPool1D(8),\n",
    "    NN.flatten,\n",
    "    NN.Dense(128, 1, AD.sigmoid)\n",
    ")"
   ]
  },
  {
   "cell_type": "code",
   "execution_count": 25,
   "id": "e2de8e04",
   "metadata": {},
   "outputs": [
    {
     "data": {
      "text/plain": [
       "accuracy (generic function with 1 method)"
      ]
     },
     "execution_count": 25,
     "metadata": {},
     "output_type": "execute_result"
    }
   ],
   "source": [
    "accuracy(m, x, y) = mean((vec(m(x)) .> 0.5) .== (y .> 0.5))"
   ]
  },
  {
   "cell_type": "code",
   "execution_count": 26,
   "id": "e275a2f5",
   "metadata": {},
   "outputs": [
    {
     "name": "stdout",
     "output_type": "stream",
     "text": [
      "Epoch: 1 (21.41s) \tTrain: (l: 0.59, a: 0.68) \tTest: (l: 0.50, a: 0.76) \tMemory allocated: 23704.395 MB\n",
      "Epoch: 2 (21.40s) \tTrain: (l: 0.48, a: 0.77) \tTest: (l: 0.46, a: 0.79) \tMemory allocated: 23691.986 MB\n",
      "Epoch: 3 (21.28s) \tTrain: (l: 0.45, a: 0.79) \tTest: (l: 0.44, a: 0.80) \tMemory allocated: 23700.028 MB\n",
      "Epoch: 4 (21.15s) \tTrain: (l: 0.43, a: 0.80) \tTest: (l: 0.42, a: 0.81) \tMemory allocated: 23704.314 MB\n",
      "Epoch: 5 (21.58s) \tTrain: (l: 0.40, a: 0.82) \tTest: (l: 0.40, a: 0.82) \tMemory allocated: 23707.371 MB\n"
     ]
    }
   ],
   "source": [
    "#= Trening modelu =#\n",
    "opt = NN.Adam(Float32(0.001))\n",
    "epochs = 5\n",
    "NN.train_model(model, dataset, X_test, y_test, opt, epochs)"
   ]
  }
 ],
 "metadata": {
  "kernelspec": {
   "display_name": "Julia 1.11.5",
   "language": "julia",
   "name": "julia-1.11"
  },
  "language_info": {
   "file_extension": ".jl",
   "mimetype": "application/julia",
   "name": "julia",
   "version": "1.11.5"
  }
 },
 "nbformat": 4,
 "nbformat_minor": 5
}
