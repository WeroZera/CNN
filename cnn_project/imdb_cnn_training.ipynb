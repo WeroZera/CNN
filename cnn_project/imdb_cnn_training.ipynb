{
 "cells": [
  {
   "cell_type": "code",
   "execution_count": null,
   "id": "a58366c6",
   "metadata": {},
   "outputs": [
    {
     "name": "stderr",
     "output_type": "stream",
     "text": [
      "WARNING: replacing module AD.\n",
      "WARNING: replacing module NN.\n"
     ]
    },
    {
     "data": {
      "text/plain": [
       "Main.NN"
      ]
     },
     "execution_count": 71,
     "metadata": {},
     "output_type": "execute_result"
    }
   ],
   "source": [
    "#= Importy i załadowanie danych =#\n",
    "using JLD2\n",
    "using Printf\n",
    "using Statistics\n",
    "using LinearAlgebra\n",
    "\n",
    "include(\"src/AD.jl\")\n",
    "include(\"src/NN.jl\")"
   ]
  },
  {
   "cell_type": "code",
   "execution_count": null,
   "id": "5cff4f72",
   "metadata": {},
   "outputs": [
    {
     "data": {
      "text/plain": [
       "50"
      ]
     },
     "execution_count": 72,
     "metadata": {},
     "output_type": "execute_result"
    }
   ],
   "source": [
    "#= Przygotowanie danych =#\n",
    "file = load(\"data/imdb_dataset_prepared.jld2\")\n",
    "X_train = Int.(file[\"X_train\"])\n",
    "y_train = vec(Float32.(file[\"y_train\"]))\n",
    "X_test  = Int.(file[\"X_test\"])\n",
    "y_test  = vec(Float32.(file[\"y_test\"]))\n",
    "embeddings = file[\"embeddings\"]\n",
    "vocab = file[\"vocab\"]\n",
    "embedding_dim = size(embeddings, 1)"
   ]
  },
  {
   "cell_type": "code",
   "execution_count": 73,
   "id": "925a78d6",
   "metadata": {},
   "outputs": [
    {
     "data": {
      "text/plain": [
       "Main.NN.DataLoader((Float32[6391.0 286.0 … 11382.0 8311.0; 143.0 286.0 … 4254.0 2891.0; … ; 12849.0 12849.0 … 12849.0 12849.0; 12849.0 12849.0 … 12849.0 12849.0], Float32[0.0, 1.0, 0.0, 0.0, 1.0, 1.0, 0.0, 0.0, 0.0, 1.0  …  0.0, 0.0, 0.0, 0.0, 1.0, 0.0, 0.0, 0.0, 1.0, 1.0]), 64, true, [19117, 37079, 10136, 6971, 37305, 34266, 4407, 37609, 12832, 36333  …  33552, 28557, 36327, 19713, 11269, 9815, 3502, 14671, 19805, 33710])"
      ]
     },
     "execution_count": 73,
     "metadata": {},
     "output_type": "execute_result"
    }
   ],
   "source": [
    "dataset = NN.DataLoader((X_train, y_train), batchsize=64, shuffle=true)"
   ]
  },
  {
   "cell_type": "code",
   "execution_count": 74,
   "id": "de759ae8",
   "metadata": {},
   "outputs": [
    {
     "data": {
      "text/plain": [
       "Main.NN.Chain(Any[var\"#61#63\"(), Main.NN.Embedding(12849, 50, Float32[0.90951 -0.58014 … 0.014323 0.0; -0.20702 -1.1316 … -0.74624 0.0; … ; -0.60396 0.1722 … -0.079873 0.0; -0.31136 1.2622 … -0.89164 0.0], Int64[]), var\"#62#64\"(), Main.NN.Conv1D(3, 50, 8, Float32[-0.16570108 0.027323633 … -0.015469636 0.0012371079; 0.13452297 -0.026739301 … 0.09288249 -0.25757426; -0.05129965 0.06483751 … 0.05390835 -0.024678327;;; -0.03966974 -0.03416187 … 0.047850925 0.06195336; 0.04495138 -0.13327932 … -0.084138215 0.017433368; 0.017740173 0.10842881 … 0.13109474 -0.06647755;;; 0.0563288 -0.029122261 … 0.09456226 0.15208714; 0.046646964 0.202473 … 0.0038042006 0.16045892; 0.12018149 -0.09307607 … -0.08516864 0.317648;;; -0.06207592 -0.060179364 … 0.10968941 0.0028341427; -0.098544136 -0.18816434 … -0.13574745 0.040246736; -0.007876265 0.0655038 … 0.06354014 0.04605036;;; 0.1200056 -0.11073338 … -0.18567623 -0.003948292; 0.0340111 -0.019381054 … -0.034958813 -0.06966194; -0.026758011 0.03950359 … -0.052794836 -0.038484946;;; -0.037876286 -0.07404873 … 0.17501685 0.318062; -0.07619118 0.26142368 … 0.1875737 -0.17045686; -0.10001209 -0.2577936 … -0.028755186 0.12248145;;; 0.0683264 0.099638596 … 0.06349379 -0.0017371741; 0.00020461509 -0.086801864 … 0.017882368 -0.04812086; -0.17327224 -0.04225003 … -0.009755159 0.10091137;;; 0.07195086 0.12927967 … -0.22332448 0.050416116; 0.03558224 -0.00036124777 … -0.18257928 -0.15680543; 0.011808232 -0.091158204 … 0.08920024 0.045586452], Float32[0.0, 0.0, 0.0, 0.0, 0.0, 0.0, 0.0, 0.0], Main.NN.relu, Array{Float32, 3}(undef, 0, 0, 0), Array{Float32, 3}(undef, 0, 0, 0)), Main.NN.MaxPool1D(8, Array{Float32, 3}(undef, 0, 0, 0), 0×0×0 BitArray{3}), Main.NN.flatten, Main.NN.Dense(Float32[0.204496 0.19876222 … 0.06542035 0.06756081], Float32[0.0], Main.NN.sigmoid, 0.0001f0, Matrix{Float32}(undef, 0, 0), Matrix{Float32}(undef, 0, 0), Matrix{Float32}(undef, 0, 0))], Any[nothing, nothing, nothing, nothing, nothing, nothing, nothing], Any[nothing, nothing, nothing, nothing, nothing, nothing, nothing])"
      ]
     },
     "execution_count": 74,
     "metadata": {},
     "output_type": "execute_result"
    }
   ],
   "source": [
    "model = NN.Chain(\n",
    "    x -> Int.(x),\n",
    "    NN.Embedding(length(vocab), embedding_dim, embeddings),\n",
    "    x -> permutedims(x, (2, 1, 3)),\n",
    "    NN.Conv1D(3, embedding_dim, 8, NN.relu),\n",
    "    NN.MaxPool1D(8),\n",
    "    NN.flatten,\n",
    "    NN.Dense(128, 1, NN.sigmoid)\n",
    ")"
   ]
  },
  {
   "cell_type": "code",
   "execution_count": 75,
   "id": "e2de8e04",
   "metadata": {},
   "outputs": [
    {
     "data": {
      "text/plain": [
       "accuracy (generic function with 1 method)"
      ]
     },
     "execution_count": 75,
     "metadata": {},
     "output_type": "execute_result"
    }
   ],
   "source": [
    "accuracy(m, x, y) = mean((vec(m(x)) .> 0.5) .== (y .> 0.5))"
   ]
  },
  {
   "cell_type": "code",
   "execution_count": null,
   "id": "e275a2f5",
   "metadata": {},
   "outputs": [
    {
     "name": "stdout",
     "output_type": "stream",
     "text": [
      "Epoch: 1 (20.43s) \tTrain: (l: 0.63, a: 0.66) \tTest: (l: 0.52, a: 0.75) \tMemory allocated: 25381.363 MB\n",
      "Epoch: 2 (20.22s) \tTrain: (l: 0.48, a: 0.77) \tTest: (l: 0.46, a: 0.79) \tMemory allocated: 25369.554 MB\n",
      "Epoch: 3 (20.37s) \tTrain: (l: 0.45, a: 0.79) \tTest: (l: 0.44, a: 0.81) \tMemory allocated: 25377.553 MB\n",
      "Epoch: 4 (20.20s) \tTrain: (l: 0.43, a: 0.80) \tTest: (l: 0.42, a: 0.81) \tMemory allocated: 25381.875 MB\n",
      "Epoch: 5 (20.34s) \tTrain: (l: 0.41, a: 0.82) \tTest: (l: 0.41, a: 0.82) \tMemory allocated: 25384.939 MB\n"
     ]
    }
   ],
   "source": [
    "#= Trening modelu =#\n",
    "opt = NN.Adam(Float32(0.001))\n",
    "epochs = 5\n",
    "NN.train_model(model, dataset, X_test, y_test, opt, epochs)"
   ]
  }
 ],
 "metadata": {
  "kernelspec": {
   "display_name": "Julia 1.11.5",
   "language": "julia",
   "name": "julia-1.11"
  },
  "language_info": {
   "file_extension": ".jl",
   "mimetype": "application/julia",
   "name": "julia",
   "version": "1.11.5"
  }
 },
 "nbformat": 4,
 "nbformat_minor": 5
}
