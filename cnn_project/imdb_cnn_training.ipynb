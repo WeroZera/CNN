{
 "cells": [
  {
   "cell_type": "code",
   "execution_count": 1,
   "id": "a58366c6",
   "metadata": {},
   "outputs": [
    {
     "data": {
      "text/plain": [
       "Main.NN"
      ]
     },
     "metadata": {},
     "output_type": "display_data"
    }
   ],
   "source": [
    "#= Importy i załadowanie danych =#\n",
    "using JLD2\n",
    "using Printf\n",
    "using Statistics\n",
    "using LinearAlgebra\n",
    "\n",
    "include(\"src/AD.jl\")\n",
    "include(\"src/NN.jl\")"
   ]
  },
  {
   "cell_type": "code",
   "execution_count": 2,
   "id": "5cff4f72",
   "metadata": {},
   "outputs": [
    {
     "data": {
      "text/plain": [
       "50"
      ]
     },
     "metadata": {},
     "output_type": "display_data"
    }
   ],
   "source": [
    "#= Przygotowanie danych =#\n",
    "file = load(\"data/imdb_dataset_prepared.jld2\")\n",
    "X_train = Int.(file[\"X_train\"])\n",
    "y_train = vec(Float32.(file[\"y_train\"]))\n",
    "X_test  = Int.(file[\"X_test\"])\n",
    "y_test  = vec(Float32.(file[\"y_test\"]))\n",
    "embeddings = file[\"embeddings\"]\n",
    "vocab = file[\"vocab\"]\n",
    "embedding_dim = size(embeddings, 1)"
   ]
  },
  {
   "cell_type": "code",
   "execution_count": 3,
   "id": "925a78d6",
   "metadata": {},
   "outputs": [
    {
     "data": {
      "text/plain": [
       "Main.NN.DataLoader((Float32[6391.0 286.0 … 11382.0 8311.0; 143.0 286.0 … 4254.0 2891.0; … ; 12849.0 12849.0 … 12849.0 12849.0; 12849.0 12849.0 … 12849.0 12849.0], Float32[0.0, 1.0, 0.0, 0.0, 1.0, 1.0, 0.0, 0.0, 0.0, 1.0  …  0.0, 0.0, 0.0, 0.0, 1.0, 0.0, 0.0, 0.0, 1.0, 1.0]), 64, true, [13897, 38171, 34816, 27382, 13441, 14864, 37966, 36480, 39074, 19440  …  28032, 14720, 28775, 1553, 31040, 30783, 26147, 4929, 5257, 13560])"
      ]
     },
     "metadata": {},
     "output_type": "display_data"
    }
   ],
   "source": [
    "dataset = NN.DataLoader((X_train, y_train), batchsize=64, shuffle=true)"
   ]
  },
  {
   "cell_type": "code",
   "execution_count": 4,
   "id": "de759ae8",
   "metadata": {},
   "outputs": [
    {
     "data": {
      "text/plain": [
       "Main.NN.Chain(Any[var\"#11#13\"(), Main.NN.Embedding(12849, 50, Float32[0.90951 -0.58014 … 0.014323 0.0; -0.20702 -1.1316 … -0.74624 0.0; … ; -0.60396 0.1722 … -0.079873 0.0; -0.31136 1.2622 … -0.89164 0.0], Int64[]), var\"#12#14\"(), Main.NN.Conv1D(3, 50, 8, Float32[-0.12508114 0.0804346 … 0.11566955 -0.1343976; -0.00033073657 -0.018515617 … 0.057583373 0.036607042; 0.008896333 -0.15128098 … -0.217241 0.17847954;;; -0.13444051 0.12119379 … 0.11521362 0.041223954; -0.0064156493 0.018483639 … -0.018643824 0.09770437; 0.026638625 0.1475353 … -0.102164805 -0.013700087;;; -0.13380253 0.046811525 … 0.009224841 0.008873731; 0.16495852 -0.042695455 … 0.054126672 0.035309345; -0.13027486 0.11699414 … 0.048162248 -0.14051206;;; -0.07384698 0.07186265 … 0.15005428 0.09003914; -0.064339794 0.051264625 … -0.10370785 -0.10909414; 0.014720807 0.02388968 … -0.026621602 0.00426194;;; 0.020512637 -0.02655051 … 0.17569557 -0.058895584; 0.00026864902 -0.008911708 … -0.051849186 0.13235548; 0.0697153 -0.16297685 … 0.17757747 -0.33425876;;; 0.3062116 -0.15366037 … 0.0631578 0.14204149; -0.059635643 -0.09090841 … 0.068398684 -0.01337144; -0.023020342 -0.09098248 … 0.09278506 0.024572585;;; -0.071792096 0.0632227 … 0.06254706 -0.107101925; -0.059052803 0.13960779 … 0.035969507 -0.1488756; -0.044784132 0.14474434 … 0.069587946 -0.16758665;;; 0.07469321 -0.14977278 … -0.072752655 -0.15780948; -0.05428887 0.21986637 … -0.11532171 -0.10618589; 0.0060703983 -0.03166593 … -0.058472432 0.07786571], Float32[0.0, 0.0, 0.0, 0.0, 0.0, 0.0, 0.0, 0.0], Main.NN.relu, Array{Float32, 3}(undef, 0, 0, 0), Array{Float32, 3}(undef, 0, 0, 0)), Main.NN.MaxPool1D(8, Array{Float32, 3}(undef, 0, 0, 0), 0×0×0 BitArray{3}), Main.NN.flatten, Main.NN.Dense(Float32[-0.01650713 -0.027751572 … 0.10352515 -0.13995454], Float32[0.0], Main.NN.sigmoid, 0.0001f0, Matrix{Float32}(undef, 0, 0), Matrix{Float32}(undef, 0, 0), Matrix{Float32}(undef, 0, 0))], Any[nothing, nothing, nothing, nothing, nothing, nothing, nothing], Any[nothing, nothing, nothing, nothing, nothing, nothing, nothing])"
      ]
     },
     "metadata": {},
     "output_type": "display_data"
    }
   ],
   "source": [
    "model = NN.Chain(\n",
    "    x -> Int.(x),\n",
    "    NN.Embedding(length(vocab), embedding_dim, embeddings),\n",
    "    x -> permutedims(x, (2, 1, 3)),\n",
    "    NN.Conv1D(3, embedding_dim, 8, NN.relu),\n",
    "    NN.MaxPool1D(8),\n",
    "    NN.flatten,\n",
    "    NN.Dense(128, 1, NN.sigmoid)\n",
    ")"
   ]
  },
  {
   "cell_type": "code",
   "execution_count": 5,
   "id": "e2de8e04",
   "metadata": {},
   "outputs": [
    {
     "data": {
      "text/plain": [
       "accuracy (generic function with 1 method)"
      ]
     },
     "metadata": {},
     "output_type": "display_data"
    }
   ],
   "source": [
    "accuracy(m, x, y) = mean((vec(m(x)) .> 0.5) .== (y .> 0.5))"
   ]
  },
  {
   "cell_type": "code",
   "execution_count": 6,
   "id": "e275a2f5",
   "metadata": {},
   "outputs": [
    {
     "name": "stdout",
     "output_type": "stream",
     "text": [
      "Epoch: 1 (35.59s) \tTrain: (l: 0.60, a: 0.68) \tTest: (l: 0.50, a: 0.77) \tMemory allocated: 24760.341 MB\n",
      "Epoch: 2 (30.06s) \tTrain: (l: 0.48, a: 0.78) \tTest: (l: 0.45, a: 0.80) \tMemory allocated: 24373.405 MB\n",
      "Epoch: 3 (32.49s) \tTrain: (l: 0.44, a: 0.80) \tTest: (l: 0.43, a: 0.81) \tMemory allocated: 24381.420 MB\n",
      "Epoch: 4 (29.66s) \tTrain: (l: 0.42, a: 0.81) \tTest: (l: 0.41, a: 0.82) \tMemory allocated: 24385.736 MB\n",
      "Epoch: 5 (31.98s) \tTrain: (l: 0.40, a: 0.83) \tTest: (l: 0.39, a: 0.83) \tMemory allocated: 24388.825 MB\n"
     ]
    }
   ],
   "source": [
    "#= Trening modelu =#\n",
    "opt = NN.Adam(Float32(0.001))\n",
    "epochs = 5\n",
    "NN.train_model(model, dataset, X_test, y_test, opt, epochs)"
   ]
  }
 ],
 "metadata": {
  "kernelspec": {
   "display_name": "Julia 1.11.5",
   "language": "julia",
   "name": "julia-1.11"
  },
  "language_info": {
   "file_extension": ".jl",
   "mimetype": "application/julia",
   "name": "julia",
   "version": "1.11.5"
  }
 },
 "nbformat": 4,
 "nbformat_minor": 5
}
