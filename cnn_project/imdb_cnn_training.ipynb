{
 "cells": [
  {
   "cell_type": "code",
   "execution_count": 8,
   "id": "a58366c6",
   "metadata": {},
   "outputs": [
    {
     "name": "stderr",
     "output_type": "stream",
     "text": [
      "WARNING: replacing module AD.\n",
      "WARNING: replacing module NN.\n"
     ]
    },
    {
     "data": {
      "text/plain": [
       "Main.NN"
      ]
     },
     "execution_count": 8,
     "metadata": {},
     "output_type": "execute_result"
    }
   ],
   "source": [
    "#= Importy i załadowanie danych =#\n",
    "using JLD2\n",
    "using Printf\n",
    "using Statistics\n",
    "using LinearAlgebra\n",
    "\n",
    "include(\"src/AD.jl\")\n",
    "include(\"src/NN.jl\")"
   ]
  },
  {
   "cell_type": "code",
   "execution_count": 9,
   "id": "5cff4f72",
   "metadata": {},
   "outputs": [
    {
     "data": {
      "text/plain": [
       "50"
      ]
     },
     "execution_count": 9,
     "metadata": {},
     "output_type": "execute_result"
    }
   ],
   "source": [
    "#= Przygotowanie danych =#\n",
    "file = load(\"data/imdb_dataset_prepared.jld2\")\n",
    "X_train = Int.(file[\"X_train\"])\n",
    "y_train = vec(Float32.(file[\"y_train\"]))\n",
    "X_test  = Int.(file[\"X_test\"])\n",
    "y_test  = vec(Float32.(file[\"y_test\"]))\n",
    "embeddings = file[\"embeddings\"]\n",
    "vocab = file[\"vocab\"]\n",
    "embedding_dim = size(embeddings, 1)"
   ]
  },
  {
   "cell_type": "code",
   "execution_count": 10,
   "id": "925a78d6",
   "metadata": {},
   "outputs": [
    {
     "data": {
      "text/plain": [
       "Main.NN.DataLoader((Float32[6391.0 286.0 … 11382.0 8311.0; 143.0 286.0 … 4254.0 2891.0; … ; 12849.0 12849.0 … 12849.0 12849.0; 12849.0 12849.0 … 12849.0 12849.0], Float32[0.0, 1.0, 0.0, 0.0, 1.0, 1.0, 0.0, 0.0, 0.0, 1.0  …  0.0, 0.0, 0.0, 0.0, 1.0, 0.0, 0.0, 0.0, 1.0, 1.0]), 64, true, [5796, 30389, 27281, 19486, 5858, 34381, 19827, 35975, 16630, 3721  …  10049, 37691, 14583, 11680, 906, 8656, 24433, 12814, 4813, 27508])"
      ]
     },
     "execution_count": 10,
     "metadata": {},
     "output_type": "execute_result"
    }
   ],
   "source": [
    "dataset = NN.DataLoader((X_train, y_train), batchsize=64, shuffle=true)"
   ]
  },
  {
   "cell_type": "code",
   "execution_count": 11,
   "id": "de759ae8",
   "metadata": {},
   "outputs": [
    {
     "data": {
      "text/plain": [
       "Main.NN.Chain(Any[var\"#5#7\"(), Main.NN.Embedding(12849, 50, Float32[0.90951 -0.58014 … 0.014323 0.0; -0.20702 -1.1316 … -0.74624 0.0; … ; -0.60396 0.1722 … -0.079873 0.0; -0.31136 1.2622 … -0.89164 0.0], Int64[]), var\"#6#8\"(), Main.NN.Conv1D(3, 50, 8, Float32[-0.19059059 0.07762306 … 0.005278347 0.011101543; 0.02321488 0.13453364 … -0.033101495 -0.0043567033; -0.029989028 -0.108399674 … -0.009360174 -0.14080127;;; -0.0026544903 0.03309946 … 0.19797084 0.049405; -0.03671582 0.017825106 … 0.00391493 -0.1651523; 0.009887318 -0.15669845 … 0.0023309402 -0.0020684125;;; -0.05400781 -0.117357165 … -0.07769784 0.028266223; -0.06891862 0.013558016 … -0.06408801 0.3544704; -0.03977637 0.2068134 … -0.12930143 0.05978754;;; 0.13516054 0.13269058 … -0.16400383 0.033789992; 0.13248985 0.10158137 … 0.062744536 0.15652162; 0.061711874 -0.04589952 … 0.00525208 -0.09641091;;; 0.10978968 0.2912776 … -0.096927874 -0.19934873; 0.04203788 -0.14108819 … -0.1923494 -0.0721688; -0.09691382 0.18789165 … -0.09676139 0.10832259;;; 0.011499916 -0.09989181 … 0.23223329 -0.12396069; -0.12959582 0.061437696 … -0.00096481264 0.0004959446; 0.03790785 -0.019311871 … 0.02032881 -0.16210066;;; 0.05555358 0.1550647 … -0.079906076 -0.01452369; -0.017763583 0.0334498 … 0.103601776 -0.06826131; 0.20642802 -0.08405034 … -0.01911721 -0.11708239;;; -0.03507568 0.014682487 … -0.08990121 -0.10075712; -0.11423373 -0.06923246 … -0.07385868 -0.12091029; 0.18572225 0.056613438 … -0.049825836 -0.058110166], Float32[0.0, 0.0, 0.0, 0.0, 0.0, 0.0, 0.0, 0.0], Main.AD.relu, Array{Float32, 3}(undef, 0, 0, 0), Array{Float32, 3}(undef, 0, 0, 0)), Main.NN.MaxPool1D(8, Array{Float32, 3}(undef, 0, 0, 0), 0×0×0 BitArray{3}), Main.NN.flatten, Main.NN.Dense(Float32[-0.15133446 0.17862593 … 0.06815701 -0.14448036], Float32[0.0], Main.AD.sigmoid, 0.0001f0, Matrix{Float32}(undef, 0, 0), Matrix{Float32}(undef, 0, 0), Matrix{Float32}(undef, 0, 0))], Any[nothing, nothing, nothing, nothing, nothing, nothing, nothing], Any[nothing, nothing, nothing, nothing, nothing, nothing, nothing])"
      ]
     },
     "execution_count": 11,
     "metadata": {},
     "output_type": "execute_result"
    }
   ],
   "source": [
    "model = NN.Chain(\n",
    "    x -> Int.(x),\n",
    "    NN.Embedding(length(vocab), embedding_dim, embeddings),\n",
    "    x -> permutedims(x, (2, 1, 3)),\n",
    "    NN.Conv1D(3, embedding_dim, 8, AD.relu),\n",
    "    NN.MaxPool1D(8),\n",
    "    NN.flatten,\n",
    "    NN.Dense(128, 1, AD.sigmoid)\n",
    ")"
   ]
  },
  {
   "cell_type": "code",
   "execution_count": 12,
   "id": "e2de8e04",
   "metadata": {},
   "outputs": [
    {
     "data": {
      "text/plain": [
       "accuracy (generic function with 1 method)"
      ]
     },
     "execution_count": 12,
     "metadata": {},
     "output_type": "execute_result"
    }
   ],
   "source": [
    "accuracy(m, x, y) = mean((vec(m(x)) .> 0.5) .== (y .> 0.5))"
   ]
  },
  {
   "cell_type": "code",
   "execution_count": 14,
   "id": "e275a2f5",
   "metadata": {},
   "outputs": [
    {
     "name": "stdout",
     "output_type": "stream",
     "text": [
      "Epoch: 1 (21.07s) \tTrain: (l: 0.41, a: 0.82) \tTest: (l: 0.40, a: 0.82) \tMemory allocated: 25356.414 MB\n",
      "Epoch: 2 (21.23s) \tTrain: (l: 0.39, a: 0.82) \tTest: (l: 0.40, a: 0.82) \tMemory allocated: 25365.835 MB\n",
      "Epoch: 3 (21.22s) \tTrain: (l: 0.38, a: 0.83) \tTest: (l: 0.39, a: 0.83) \tMemory allocated: 25373.850 MB\n",
      "Epoch: 4 (21.31s) \tTrain: (l: 0.37, a: 0.84) \tTest: (l: 0.39, a: 0.83) \tMemory allocated: 25378.179 MB\n",
      "Epoch: 5 (21.01s) \tTrain: (l: 0.37, a: 0.84) \tTest: (l: 0.38, a: 0.83) \tMemory allocated: 25381.213 MB\n"
     ]
    }
   ],
   "source": [
    "#= Trening modelu =#\n",
    "opt = NN.Adam(Float32(0.001))\n",
    "epochs = 5\n",
    "NN.train_model(model, dataset, X_test, y_test, opt, epochs)"
   ]
  }
 ],
 "metadata": {
  "kernelspec": {
   "display_name": "Julia 1.11.5",
   "language": "julia",
   "name": "julia-1.11"
  },
  "language_info": {
   "file_extension": ".jl",
   "mimetype": "application/julia",
   "name": "julia",
   "version": "1.11.5"
  }
 },
 "nbformat": 4,
 "nbformat_minor": 5
}
