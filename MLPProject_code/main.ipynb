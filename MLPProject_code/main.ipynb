{
 "cells": [
  {
   "cell_type": "code",
   "execution_count": 2,
   "id": "b6822d82",
   "metadata": {},
   "outputs": [],
   "source": [
    "using JLD2\n",
    "using Printf\n",
    "using Statistics\n",
    "using LinearAlgebra"
   ]
  },
  {
   "cell_type": "code",
   "execution_count": 3,
   "id": "59537b7d",
   "metadata": {},
   "outputs": [
    {
     "data": {
      "text/plain": [
       "Main.NN"
      ]
     },
     "execution_count": 3,
     "metadata": {},
     "output_type": "execute_result"
    }
   ],
   "source": [
    "include(\"src/AD.jl\")\n",
    "include(\"src/NN.jl\")"
   ]
  },
  {
   "cell_type": "code",
   "execution_count": 11,
   "id": "d91ae817",
   "metadata": {},
   "outputs": [],
   "source": [
    "# Load the data directly using the available keys\n",
    "file = load(\"data/imdb_dataset_prepared.jld2\")\n",
    "X_train = Float32.(Matrix(file[\"X_train\"]))\n",
    "y_train = vec(Float32.(file[\"y_train\"]))\n",
    "X_test  = Float32.(Matrix(file[\"X_test\"]))\n",
    "y_test  = vec(Float32.(file[\"y_test\"]));"
   ]
  },
  {
   "cell_type": "code",
   "execution_count": 12,
   "id": "1646e7a4",
   "metadata": {},
   "outputs": [],
   "source": [
    "dataset = NN.DataLoader((X_train, y_train), batchsize=64, shuffle=true);"
   ]
  },
  {
   "cell_type": "code",
   "execution_count": 13,
   "id": "bdab9da4",
   "metadata": {},
   "outputs": [],
   "source": [
    "# Create model with dropout and weight decay\n",
    "model = NN.Chain(\n",
    "    NN.Dense(size(X_train, 1), 64, NN.relu, weight_decay=Float32(0.0001)),\n",
    "    NN.Dropout(Float32(0.3)),\n",
    "    NN.Dense(64, 32, NN.relu, weight_decay=Float32(0.001)),\n",
    "    NN.Dropout(Float32(0.3)),\n",
    "    NN.Dense(32, 1, NN.sigmoid, weight_decay=Float32(0.001))\n",
    ");"
   ]
  },
  {
   "cell_type": "code",
   "execution_count": 14,
   "id": "35d8bb52",
   "metadata": {},
   "outputs": [
    {
     "data": {
      "text/plain": [
       "accuracy (generic function with 1 method)"
      ]
     },
     "execution_count": 14,
     "metadata": {},
     "output_type": "execute_result"
    }
   ],
   "source": [
    "accuracy(m, x, y) = mean((vec(m(x)) .> 0.5) .== (y .> 0.5))"
   ]
  },
  {
   "cell_type": "code",
   "execution_count": 17,
   "id": "040daca3",
   "metadata": {},
   "outputs": [],
   "source": [
    "# Use a smaller learning rate\n",
    "global opt = NN.Adam(Float32(0.0001))  # Reduced learning rate\n",
    "epochs = 5  # Increased epochs for early stopping\n",
    "patience = 5;  # Number of epochs to wait for improvement"
   ]
  },
  {
   "cell_type": "code",
   "execution_count": 18,
   "id": "366a8a21",
   "metadata": {},
   "outputs": [
    {
     "name": "stdout",
     "output_type": "stream",
     "text": [
      "Epoch: 1  (1.49s)   Train: (l: 0.5416, a: 0.8972)   Test: (l: 0.5518, a: 0.8650)\n",
      "Epoch: 2  (1.33s)   Train: (l: 0.4969, a: 0.9044)   Test: (l: 0.5149, a: 0.8685)\n",
      "Epoch: 3  (1.35s)   Train: (l: 0.4488, a: 0.9144)   Test: (l: 0.4769, a: 0.8705)\n",
      "Epoch: 4  (1.63s)   Train: (l: 0.3995, a: 0.9177)   Test: (l: 0.4439, a: 0.8735)\n",
      "Epoch: 5  (1.71s)   Train: (l: 0.3568, a: 0.9254)   Test: (l: 0.4137, a: 0.8735)\n"
     ]
    }
   ],
   "source": [
    "# Run training\n",
    "model = NN.train_model(model, dataset, X_test, y_test, opt, epochs, patience);"
   ]
  },
  {
   "cell_type": "code",
   "execution_count": null,
   "id": "97d24039-53a0-429f-ae19-0d1de8397fe2",
   "metadata": {
    "jupyter": {
     "source_hidden": true
    }
   },
   "outputs": [],
   "source": []
  }
 ],
 "metadata": {
  "kernelspec": {
   "display_name": "Julia 1.11.5",
   "language": "julia",
   "name": "julia-1.11"
  },
  "language_info": {
   "file_extension": ".jl",
   "mimetype": "application/julia",
   "name": "julia",
   "version": "1.11.5"
  }
 },
 "nbformat": 4,
 "nbformat_minor": 5
}
