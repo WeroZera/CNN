{
 "cells": [
  {
   "cell_type": "code",
   "execution_count": 1,
   "id": "b67a6b62",
   "metadata": {},
   "outputs": [
    {
     "data": {
      "text/plain": [
       "50"
      ]
     },
     "metadata": {},
     "output_type": "display_data"
    }
   ],
   "source": [
    "#= 📦 Importy i załadowanie danych =#\n",
    "using JLD2, Printf, Statistics, LinearAlgebra\n",
    "include(\"src/AD.jl\")\n",
    "include(\"src/NN.jl\")\n",
    "\n",
    "file = load(\"data/imdb_dataset_prepared.jld2\")\n",
    "X_train = Int.(file[\"X_train\"])\n",
    "y_train = vec(Float32.(file[\"y_train\"]))\n",
    "X_test  = Int.(file[\"X_test\"])\n",
    "y_test  = vec(Float32.(file[\"y_test\"]))\n",
    "embeddings = file[\"embeddings\"]\n",
    "vocab = file[\"vocab\"]\n",
    "embedding_dim = size(embeddings, 1)"
   ]
  },
  {
   "cell_type": "code",
   "execution_count": 2,
   "id": "e47a134e",
   "metadata": {},
   "outputs": [],
   "source": [
    "#= 🔄 Przygotowanie danych =#\n",
    "if size(X_train, 1) < size(X_train, 2)\n",
    "    X_train = X_train\n",
    "else\n",
    "    X_train = X_train'\n",
    "end\n",
    "if size(X_test, 1) < size(X_test, 2)\n",
    "    X_test = X_test\n",
    "else\n",
    "    X_test = X_test'\n",
    "end\n",
    "X_train_f32 = Float32.(X_train)\n",
    "X_test_f32 = Float32.(X_test)\n",
    "dataset = NN.DataLoader((X_train_f32, y_train), batchsize=32, shuffle=true);"
   ]
  },
  {
   "cell_type": "code",
   "execution_count": 3,
   "id": "a89315d8",
   "metadata": {},
   "outputs": [],
   "source": [
    "#= 🧠 Definicja modelu CNN =#\n",
    "model = NN.Chain(\n",
    "    x -> Int.(x),\n",
    "    NN.Embedding(length(vocab), embedding_dim, embeddings),\n",
    "    x -> permutedims(x, (2, 1, 3)),\n",
    "    NN.Conv1D(3, embedding_dim, 16, NN.relu),\n",
    "    NN.MaxPool1D(8),\n",
    "    NN.flatten,\n",
    "    NN.Dropout(0.3),\n",
    "    NN.Dense(256, 64, NN.relu),\n",
    "    NN.Dropout(0.3),\n",
    "    NN.Dense(64, 1, NN.sigmoid)\n",
    ");"
   ]
  },
  {
   "cell_type": "code",
   "execution_count": 4,
   "id": "03e50245",
   "metadata": {},
   "outputs": [
    {
     "data": {
      "text/plain": [
       "accuracy (generic function with 1 method)"
      ]
     },
     "metadata": {},
     "output_type": "display_data"
    }
   ],
   "source": [
    "#= 🎯 Metryka dokładności =#\n",
    "accuracy(m, x, y) = mean((vec(m(x)) .> 0.5) .== (y .> 0.5))"
   ]
  },
  {
   "cell_type": "code",
   "execution_count": null,
   "id": "dfa92191",
   "metadata": {},
   "outputs": [],
   "source": [
    "#= 🚀 Trening modelu =#\n",
    "opt = NN.Adam(Float32(0.0001))\n",
    "epochs = 5\n",
    "NN.train_model(model, dataset, X_test_f32, y_test, opt, epochs)"
   ]
  },
  {
   "cell_type": "code",
   "execution_count": null,
   "id": "d9c93a09-5ba4-4fbb-853a-3f51835c95a4",
   "metadata": {},
   "outputs": [],
   "source": []
  }
 ],
 "metadata": {
  "kernelspec": {
   "display_name": "Julia 1.11.5",
   "language": "julia",
   "name": "julia-1.11"
  },
  "language_info": {
   "file_extension": ".jl",
   "mimetype": "application/julia",
   "name": "julia",
   "version": "1.11.5"
  }
 },
 "nbformat": 4,
 "nbformat_minor": 5
}
