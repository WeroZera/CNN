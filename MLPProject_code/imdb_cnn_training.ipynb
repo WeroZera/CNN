{
 "cells": [
  {
   "cell_type": "code",
   "execution_count": 7,
   "id": "b67a6b62",
   "metadata": {},
   "outputs": [
    {
     "name": "stderr",
     "output_type": "stream",
     "text": [
      "WARNING: replacing module AD.\n",
      "WARNING: replacing module NN.\n"
     ]
    },
    {
     "data": {
      "text/plain": [
       "50"
      ]
     },
     "execution_count": 7,
     "metadata": {},
     "output_type": "execute_result"
    }
   ],
   "source": [
    "#= 📦 Importy i załadowanie danych =#\n",
    "using JLD2, Printf, Statistics, LinearAlgebra\n",
    "include(\"src/AD.jl\")\n",
    "include(\"src/NN.jl\")\n",
    "\n",
    "file = load(\"data/imdb_dataset_prepared.jld2\")\n",
    "X_train = Int.(file[\"X_train\"])\n",
    "y_train = vec(Float32.(file[\"y_train\"]))\n",
    "X_test  = Int.(file[\"X_test\"])\n",
    "y_test  = vec(Float32.(file[\"y_test\"]))\n",
    "embeddings = file[\"embeddings\"]\n",
    "vocab = file[\"vocab\"]\n",
    "embedding_dim = size(embeddings, 1)"
   ]
  },
  {
   "cell_type": "code",
   "execution_count": 8,
   "id": "e47a134e",
   "metadata": {},
   "outputs": [],
   "source": [
    "#= 🔄 Przygotowanie danych =#\n",
    "if size(X_train, 1) < size(X_train, 2)\n",
    "    X_train = X_train\n",
    "else\n",
    "    X_train = X_train'\n",
    "end\n",
    "if size(X_test, 1) < size(X_test, 2)\n",
    "    X_test = X_test\n",
    "else\n",
    "    X_test = X_test'\n",
    "end\n",
    "X_train_f32 = Float32.(X_train)\n",
    "X_test_f32 = Float32.(X_test)\n",
    "dataset = NN.DataLoader((X_train_f32, y_train), batchsize=32, shuffle=true);"
   ]
  },
  {
   "cell_type": "code",
   "execution_count": 9,
   "id": "a89315d8",
   "metadata": {},
   "outputs": [],
   "source": [
    "model = NN.Chain(\n",
    "    x -> Int.(x),\n",
    "    NN.Embedding(length(vocab), embedding_dim, embeddings),\n",
    "    x -> permutedims(x, (2, 1, 3)),\n",
    "    NN.Conv1D(3, embedding_dim, 16, NN.relu),\n",
    "    NN.MaxPool1D(8),\n",
    "    NN.flatten,\n",
    "    NN.Dropout(0.3),\n",
    "    NN.Dense(256, 64, NN.relu),\n",
    "    NN.Dropout(0.3),\n",
    "    NN.Dense(64, 1, NN.sigmoid)\n",
    ");\n"
   ]
  },
  {
   "cell_type": "code",
   "execution_count": 10,
   "id": "03e50245",
   "metadata": {},
   "outputs": [
    {
     "data": {
      "text/plain": [
       "accuracy (generic function with 1 method)"
      ]
     },
     "execution_count": 10,
     "metadata": {},
     "output_type": "execute_result"
    }
   ],
   "source": [
    "#= 🎯 Metryka dokładności =#\n",
    "accuracy(m, x, y) = mean((vec(m(x)) .> 0.5) .== (y .> 0.5))"
   ]
  },
  {
   "cell_type": "code",
   "execution_count": 12,
   "id": "dfa92191",
   "metadata": {},
   "outputs": [
    {
     "name": "stdout",
     "output_type": "stream",
     "text": [
      "Epoch: 1 (77.24s) \tTrain: (l: 0.5251, a: 0.7497) \tTest: (l: 0.5311, a: 0.7463)\n",
      "Epoch: 2 (76.77s) \tTrain: (l: 0.5269, a: 0.7481) \tTest: (l: 0.5368, a: 0.7413)\n",
      "Epoch: 3 (76.72s) \tTrain: (l: 0.5267, a: 0.7458) \tTest: (l: 0.5418, a: 0.7353)\n",
      "Epoch: 4 (77.01s) \tTrain: (l: 0.5253, a: 0.7482) \tTest: (l: 0.5415, a: 0.7400)\n",
      "Epoch: 5 (80.20s) \tTrain: (l: 0.5244, a: 0.7497) \tTest: (l: 0.5407, a: 0.7440)\n"
     ]
    }
   ],
   "source": [
    "#= 🚀 Trening modelu =#\n",
    "opt = NN.Adam(Float32(0.0005))\n",
    "epochs = 5\n",
    "NN.train_model(model, dataset, X_test_f32, y_test, opt, epochs)"
   ]
  },
  {
   "cell_type": "code",
   "execution_count": null,
   "id": "d9c93a09-5ba4-4fbb-853a-3f51835c95a4",
   "metadata": {},
   "outputs": [],
   "source": []
  }
 ],
 "metadata": {
  "kernelspec": {
   "display_name": "Julia 1.11.5",
   "language": "julia",
   "name": "julia-1.11"
  },
  "language_info": {
   "file_extension": ".jl",
   "mimetype": "application/julia",
   "name": "julia",
   "version": "1.11.5"
  }
 },
 "nbformat": 4,
 "nbformat_minor": 5
}
