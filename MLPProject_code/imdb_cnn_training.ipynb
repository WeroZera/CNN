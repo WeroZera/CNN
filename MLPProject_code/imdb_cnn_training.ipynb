{
 "cells": [
  {
   "cell_type": "code",
   "execution_count": 1,
   "id": "a58366c6",
   "metadata": {},
   "outputs": [
    {
     "data": {
      "text/plain": [
       "Main.NN"
      ]
     },
     "metadata": {},
     "output_type": "display_data"
    }
   ],
   "source": [
    "#= 📦 Importy i załadowanie danych =#\n",
    "using JLD2\n",
    "using Printf\n",
    "using Statistics\n",
    "using LinearAlgebra\n",
    "\n",
    "include(\"src/AD.jl\")\n",
    "include(\"src/NN.jl\")"
   ]
  },
  {
   "cell_type": "code",
   "execution_count": 2,
   "id": "5cff4f72",
   "metadata": {},
   "outputs": [
    {
     "data": {
      "text/plain": [
       "50"
      ]
     },
     "metadata": {},
     "output_type": "display_data"
    }
   ],
   "source": [
    "#= 🔄 Przygotowanie danych =#\n",
    "file = load(\"data/imdb_dataset_prepared.jld2\")\n",
    "X_train = Int.(file[\"X_train\"])\n",
    "y_train = vec(Float32.(file[\"y_train\"]))\n",
    "X_test  = Int.(file[\"X_test\"])\n",
    "y_test  = vec(Float32.(file[\"y_test\"]))\n",
    "embeddings = file[\"embeddings\"]\n",
    "vocab = file[\"vocab\"]\n",
    "embedding_dim = size(embeddings, 1)"
   ]
  },
  {
   "cell_type": "code",
   "execution_count": 3,
   "id": "925a78d6",
   "metadata": {},
   "outputs": [
    {
     "data": {
      "text/plain": [
       "Main.NN.DataLoader((Float32[6391.0 286.0 … 11382.0 8311.0; 143.0 286.0 … 4254.0 2891.0; … ; 12849.0 12849.0 … 12849.0 12849.0; 12849.0 12849.0 … 12849.0 12849.0], Float32[0.0, 1.0, 0.0, 0.0, 1.0, 1.0, 0.0, 0.0, 0.0, 1.0  …  0.0, 0.0, 0.0, 0.0, 1.0, 0.0, 0.0, 0.0, 1.0, 1.0]), 64, true, [12738, 23640, 23530, 26716, 33576, 19342, 18418, 19608, 32789, 33893  …  16657, 14605, 28255, 36065, 12817, 26706, 22524, 5049, 20028, 13555])"
      ]
     },
     "metadata": {},
     "output_type": "display_data"
    }
   ],
   "source": [
    "dataset = NN.DataLoader((X_train, y_train), batchsize=64, shuffle=true)"
   ]
  },
  {
   "cell_type": "code",
   "execution_count": 4,
   "id": "de759ae8",
   "metadata": {},
   "outputs": [
    {
     "data": {
      "text/plain": [
       "Main.NN.Chain(Any[var\"#11#13\"(), Main.NN.Embedding(12849, 50, Float32[0.90951 -0.58014 … 0.014323 0.0; -0.20702 -1.1316 … -0.74624 0.0; … ; -0.60396 0.1722 … -0.079873 0.0; -0.31136 1.2622 … -0.89164 0.0], Int64[]), var\"#12#14\"(), Main.NN.Conv1D(3, 50, 8, Float32[-0.011274268 0.19492935 … -0.09591613 0.0094998125; -0.15421052 -0.055225443 … -0.1638502 -0.12043111; -0.031841464 0.07107344 … 0.031222705 -0.2271448;;; -0.0811258 -0.023573885 … 0.11729122 -0.122308366; -0.08746908 0.10450979 … 0.08103245 0.16720204; -0.024774123 -0.051743537 … 0.046120048 -0.17081676;;; -0.12733173 -0.10502957 … -0.052491613 -0.15518901; 0.22661838 -0.13931379 … 0.07032786 0.04317539; -0.10640272 0.107108474 … -0.0061525144 -0.04017419;;; 0.022279993 0.068236105 … -0.13720897 -0.0700028; -0.093604416 -0.09348902 … -0.0799094 0.12840435; -0.0683449 0.25528893 … -0.021777505 -0.020534312;;; -0.031141192 -0.0026964345 … -0.1623106 -0.06560745; -0.19341394 0.1544467 … 0.05053372 -0.30262625; 0.125327 0.26628387 … -0.20679517 0.006406347;;; 0.13445672 0.2014195 … 0.043895315 0.05374624; 0.03776106 -0.05053332 … -0.086215705 0.09367048; -0.15042217 -0.0056667575 … 0.09896446 -0.06692641;;; 0.012950178 -0.04814495 … 0.11564994 0.20362704; 0.09687751 0.19746421 … -0.023732685 0.017647369; 0.0905484 -0.08257678 … -0.030559003 0.04236657;;; 0.051528558 -0.024536872 … -0.038437087 0.12818529; -0.2187847 0.13795038 … -0.1647115 0.13152017; -0.11563786 -0.16389997 … 0.1535214 -0.099318534], Float32[0.0, 0.0, 0.0, 0.0, 0.0, 0.0, 0.0, 0.0], Main.NN.relu, Array{Float32, 3}(undef, 0, 0, 0), Array{Float32, 3}(undef, 0, 0, 0)), Main.NN.MaxPool1D(8, Array{Float32, 3}(undef, 0, 0, 0), 0×0×0 BitArray{3}), Main.NN.flatten, Main.NN.Dense(Float32[-0.1590516 -0.1591715 … 0.070648044 0.19529918], Float32[0.0], Main.NN.sigmoid, 0.0001f0, Matrix{Float32}(undef, 0, 0), Matrix{Float32}(undef, 0, 0), Matrix{Float32}(undef, 0, 0))], Any[nothing, nothing, nothing, nothing, nothing, nothing, nothing], Any[nothing, nothing, nothing, nothing, nothing, nothing, nothing])"
      ]
     },
     "metadata": {},
     "output_type": "display_data"
    }
   ],
   "source": [
    "model = NN.Chain(\n",
    "    x -> Int.(x),\n",
    "    NN.Embedding(length(vocab), embedding_dim, embeddings),\n",
    "    x -> permutedims(x, (2, 1, 3)),\n",
    "    NN.Conv1D(3, embedding_dim, 8, NN.relu),\n",
    "    NN.MaxPool1D(8),\n",
    "    NN.flatten,\n",
    "    NN.Dense(128, 1, NN.sigmoid)\n",
    ")"
   ]
  },
  {
   "cell_type": "code",
   "execution_count": 5,
   "id": "e2de8e04",
   "metadata": {},
   "outputs": [
    {
     "data": {
      "text/plain": [
       "accuracy (generic function with 1 method)"
      ]
     },
     "metadata": {},
     "output_type": "display_data"
    }
   ],
   "source": [
    "accuracy(m, x, y) = mean((vec(m(x)) .> 0.5) .== (y .> 0.5))"
   ]
  },
  {
   "cell_type": "code",
   "execution_count": 6,
   "id": "e275a2f5",
   "metadata": {},
   "outputs": [
    {
     "name": "stdout",
     "output_type": "stream",
     "text": [
      "Epoch: 1 (92.06s) \tTrain: (l: 0.59, a: 0.67) \tTest: (l: 0.49, a: 0.77) \tMemory allocated: 24761.250 MB\n",
      "Epoch: 2 (72.32s) \tTrain: (l: 0.48, a: 0.78) \tTest: (l: 0.46, a: 0.79) \tMemory allocated: 24374.366 MB\n",
      "Epoch: 3 (71.59s) \tTrain: (l: 0.45, a: 0.79) \tTest: (l: 0.44, a: 0.80) \tMemory allocated: 24382.346 MB\n",
      "Epoch: 4 (69.79s) \tTrain: (l: 0.44, a: 0.80) \tTest: (l: 0.43, a: 0.81) \tMemory allocated: 24386.671 MB\n",
      "Epoch: 5 (71.58s) \tTrain: (l: 0.42, a: 0.81) \tTest: (l: 0.42, a: 0.82) \tMemory allocated: 24389.746 MB\n"
     ]
    }
   ],
   "source": [
    "#= 🚀 Trening modelu =#\n",
    "opt = NN.Adam(Float32(0.001))\n",
    "epochs = 5\n",
    "NN.train_model(model, dataset, X_test, y_test, opt, epochs)"
   ]
  }
 ],
 "metadata": {
  "kernelspec": {
   "display_name": "Julia 1.11.5",
   "language": "julia",
   "name": "julia-1.11"
  },
  "language_info": {
   "file_extension": ".jl",
   "mimetype": "application/julia",
   "name": "julia",
   "version": "1.11.5"
  }
 },
 "nbformat": 4,
 "nbformat_minor": 5
}
