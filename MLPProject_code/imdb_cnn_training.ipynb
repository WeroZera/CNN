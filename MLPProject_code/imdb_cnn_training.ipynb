{
 "cells": [
  {
   "cell_type": "code",
   "execution_count": 7,
   "id": "a58366c6",
   "metadata": {},
   "outputs": [
    {
     "name": "stderr",
     "output_type": "stream",
     "text": [
      "WARNING: replacing module AD.\n",
      "WARNING: replacing module NN.\n"
     ]
    },
    {
     "data": {
      "text/plain": [
       "Main.NN"
      ]
     },
     "execution_count": 7,
     "metadata": {},
     "output_type": "execute_result"
    }
   ],
   "source": [
    "#= 📦 Importy i załadowanie danych =#\n",
    "using JLD2\n",
    "using Printf\n",
    "using Statistics\n",
    "using LinearAlgebra\n",
    "\n",
    "include(\"src/AD.jl\")\n",
    "include(\"src/NN.jl\")"
   ]
  },
  {
   "cell_type": "code",
   "execution_count": null,
   "id": "5cff4f72",
   "metadata": {},
   "outputs": [
    {
     "data": {
      "text/plain": [
       "50"
      ]
     },
     "execution_count": 8,
     "metadata": {},
     "output_type": "execute_result"
    }
   ],
   "source": [
    "#= 🔄 Przygotowanie danych =#\n",
    "file = load(\"data/imdb_dataset_prepared.jld2\")\n",
    "X_train = Int.(file[\"X_train\"])\n",
    "y_train = vec(Float32.(file[\"y_train\"]))\n",
    "X_test  = Int.(file[\"X_test\"])\n",
    "y_test  = vec(Float32.(file[\"y_test\"]))\n",
    "embeddings = file[\"embeddings\"]\n",
    "vocab = file[\"vocab\"]\n",
    "embedding_dim = size(embeddings, 1)"
   ]
  },
  {
   "cell_type": "code",
   "execution_count": 9,
   "id": "925a78d6",
   "metadata": {},
   "outputs": [
    {
     "data": {
      "text/plain": [
       "Main.NN.DataLoader((Float32[6391.0 286.0 … 11382.0 8311.0; 143.0 286.0 … 4254.0 2891.0; … ; 12849.0 12849.0 … 12849.0 12849.0; 12849.0 12849.0 … 12849.0 12849.0], Float32[0.0, 1.0, 0.0, 0.0, 1.0, 1.0, 0.0, 0.0, 0.0, 1.0  …  0.0, 0.0, 0.0, 0.0, 1.0, 0.0, 0.0, 0.0, 1.0, 1.0]), 64, true, [32683, 39034, 7812, 9682, 38165, 8530, 24884, 13800, 15857, 24336  …  38836, 21648, 23095, 25678, 26108, 32282, 33919, 10887, 16630, 39123])"
      ]
     },
     "execution_count": 9,
     "metadata": {},
     "output_type": "execute_result"
    }
   ],
   "source": [
    "dataset = NN.DataLoader((X_train, y_train), batchsize=64, shuffle=true)"
   ]
  },
  {
   "cell_type": "code",
   "execution_count": null,
   "id": "de759ae8",
   "metadata": {},
   "outputs": [
    {
     "data": {
      "text/plain": [
       "Main.NN.Chain(Any[var\"#5#7\"(), Main.NN.Embedding(12849, 50, Float32[0.90951 -0.58014 … 0.014323 0.0; -0.20702 -1.1316 … -0.74624 0.0; … ; -0.60396 0.1722 … -0.079873 0.0; -0.31136 1.2622 … -0.89164 0.0], Int64[]), var\"#6#8\"(), Main.NN.Conv1D(3, 50, 8, Float32[0.19548656 -0.13748096 … -0.029870939 -0.13235855; -0.047251515 -0.034629982 … 0.01699292 0.1243569; 0.023121303 0.0060622953 … -0.033419542 -0.10284888;;; 0.14944689 -0.10561571 … -0.08841027 -0.16341622; -0.17465019 0.0412365 … -0.026658136 -0.122651815; -0.09217791 -0.12946326 … -0.11048508 0.094671965;;; 0.054223638 -0.11854025 … 0.011167886 -0.0025306377; 0.022569947 -0.058938477 … -0.34426907 -0.08609958; 0.0028482324 0.02538908 … 0.11023644 0.24970715;;; -0.060148705 0.084308445 … -0.0178336 -0.11965072; 0.02093437 0.17145135 … 0.11038865 -0.08106754; 0.120033376 -0.0042178603 … -0.09970752 -0.08653182;;; -0.15025014 0.113206446 … -0.06264779 0.029800653; -0.2311311 -0.030981781 … -0.07136277 -0.06504426; 0.03893273 0.11978106 … 0.1265165 -0.0664104;;; 0.033413682 0.14586832 … -0.0048368247 -0.06861552; -0.15445288 0.16693218 … -0.042407755 0.12554239; -0.058704764 0.026642187 … 0.10847151 0.09058282;;; -0.029939556 0.34509745 … -0.090438224 0.15567024; 0.10534466 0.33610597 … -0.16389187 -0.12329612; -0.017574405 -0.03410785 … 0.16538668 -0.07003988;;; 0.11149473 -0.00602547 … -0.02246872 0.032129265; 0.21250428 -0.11607906 … -0.17018363 0.066435665; -0.15106656 -0.036921993 … -0.013984503 -0.03846056], Float32[0.0, 0.0, 0.0, 0.0, 0.0, 0.0, 0.0, 0.0], Main.NN.relu, Array{Float32, 3}(undef, 0, 0, 0), Array{Float32, 3}(undef, 0, 0, 0)), Main.NN.MaxPool1D(8, Array{Float32, 3}(undef, 0, 0, 0), 0×0×0 BitArray{3}), Main.NN.flatten, Main.NN.Dense(Float32[0.00062682974 -0.20272148 … 0.20480445 -0.13505533], Float32[0.0], Main.NN.sigmoid, 0.0001f0, Matrix{Float32}(undef, 0, 0), Matrix{Float32}(undef, 0, 0), Matrix{Float32}(undef, 0, 0))], Any[nothing, nothing, nothing, nothing, nothing, nothing, nothing], Any[nothing, nothing, nothing, nothing, nothing, nothing, nothing])"
      ]
     },
     "execution_count": 10,
     "metadata": {},
     "output_type": "execute_result"
    }
   ],
   "source": [
    "model = NN.Chain(\n",
    "    x -> Int.(x),\n",
    "    NN.Embedding(length(vocab), embedding_dim, embeddings),\n",
    "    x -> permutedims(x, (2, 1, 3)),\n",
    "    NN.Conv1D(3, embedding_dim, 8, NN.relu),\n",
    "    NN.MaxPool1D(8),\n",
    "    NN.flatten,\n",
    "    NN.Dense(128, 1, NN.sigmoid)\n",
    ")"
   ]
  },
  {
   "cell_type": "code",
   "execution_count": 11,
   "id": "e2de8e04",
   "metadata": {},
   "outputs": [
    {
     "data": {
      "text/plain": [
       "accuracy (generic function with 1 method)"
      ]
     },
     "execution_count": 11,
     "metadata": {},
     "output_type": "execute_result"
    }
   ],
   "source": [
    "accuracy(m, x, y) = mean((vec(m(x)) .> 0.5) .== (y .> 0.5))"
   ]
  },
  {
   "cell_type": "code",
   "execution_count": 12,
   "id": "e275a2f5",
   "metadata": {},
   "outputs": [
    {
     "name": "stdout",
     "output_type": "stream",
     "text": [
      "Epoch: 1 (20.18s) \tTrain: (l: 0.59, a: 0.69) \tTest: (l: 0.50, a: 0.76)\n",
      "Epoch: 2 (20.57s) \tTrain: (l: 0.48, a: 0.77) \tTest: (l: 0.46, a: 0.79)\n",
      "Epoch: 3 (19.73s) \tTrain: (l: 0.46, a: 0.79) \tTest: (l: 0.44, a: 0.80)\n",
      "Epoch: 4 (21.50s) \tTrain: (l: 0.44, a: 0.80) \tTest: (l: 0.43, a: 0.80)\n",
      "Epoch: 5 (20.03s) \tTrain: (l: 0.43, a: 0.81) \tTest: (l: 0.43, a: 0.81)\n"
     ]
    }
   ],
   "source": [
    "#= 🚀 Trening modelu =#\n",
    "opt = NN.Adam(Float32(0.001))\n",
    "epochs = 5\n",
    "NN.train_model(model, dataset, X_test, y_test, opt, epochs)"
   ]
  }
 ],
 "metadata": {
  "kernelspec": {
   "display_name": "Julia 1.11.5",
   "language": "julia",
   "name": "julia-1.11"
  },
  "language_info": {
   "file_extension": ".jl",
   "mimetype": "application/julia",
   "name": "julia",
   "version": "1.11.5"
  }
 },
 "nbformat": 4,
 "nbformat_minor": 5
}
