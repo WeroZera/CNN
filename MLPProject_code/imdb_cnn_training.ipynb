{
 "cells": [
  {
   "cell_type": "code",
   "execution_count": 11,
   "id": "b67a6b62",
   "metadata": {},
   "outputs": [
    {
     "name": "stderr",
     "output_type": "stream",
     "text": [
      "WARNING: replacing module AD.\n",
      "WARNING: replacing module NN.\n"
     ]
    },
    {
     "data": {
      "text/plain": [
       "50"
      ]
     },
     "execution_count": 11,
     "metadata": {},
     "output_type": "execute_result"
    }
   ],
   "source": [
    "#= 📦 Importy i załadowanie danych =#\n",
    "using JLD2, Printf, Statistics, LinearAlgebra\n",
    "include(\"src/AD.jl\")\n",
    "include(\"src/NN.jl\")\n",
    "\n",
    "file = load(\"data/imdb_dataset_prepared.jld2\")\n",
    "X_train = Int.(file[\"X_train\"])\n",
    "y_train = vec(Float32.(file[\"y_train\"]))\n",
    "X_test  = Int.(file[\"X_test\"])\n",
    "y_test  = vec(Float32.(file[\"y_test\"]))\n",
    "embeddings = file[\"embeddings\"]\n",
    "vocab = file[\"vocab\"]\n",
    "embedding_dim = size(embeddings, 1)"
   ]
  },
  {
   "cell_type": "code",
   "execution_count": 12,
   "id": "e47a134e",
   "metadata": {},
   "outputs": [],
   "source": [
    "#= 🔄 Przygotowanie danych =#\n",
    "if size(X_train, 1) < size(X_train, 2)\n",
    "    X_train = X_train\n",
    "else\n",
    "    X_train = X_train'\n",
    "end\n",
    "if size(X_test, 1) < size(X_test, 2)\n",
    "    X_test = X_test\n",
    "else\n",
    "    X_test = X_test'\n",
    "end\n",
    "X_train_f32 = Float32.(X_train)\n",
    "X_test_f32 = Float32.(X_test)\n",
    "dataset = NN.DataLoader((X_train_f32, y_train), batchsize=32, shuffle=true);"
   ]
  },
  {
   "cell_type": "code",
   "execution_count": 14,
   "id": "a89315d8",
   "metadata": {},
   "outputs": [],
   "source": [
    "model = NN.Chain(\n",
    "    x -> Int.(x),\n",
    "    NN.Embedding(length(vocab), embedding_dim, embeddings),\n",
    "    x -> permutedims(x, (2, 1, 3)),\n",
    "    NN.Conv1D(3, embedding_dim, 16, NN.relu),\n",
    "    NN.MaxPool1D(8),\n",
    "    NN.flatten,\n",
    "    NN.Dropout(0.3),\n",
    "    NN.Dense(256, 64, NN.relu),\n",
    "    NN.Dropout(0.3),\n",
    "    NN.Dense(64, 1, NN.sigmoid)\n",
    ");\n"
   ]
  },
  {
   "cell_type": "code",
   "execution_count": 15,
   "id": "03e50245",
   "metadata": {},
   "outputs": [
    {
     "data": {
      "text/plain": [
       "accuracy (generic function with 1 method)"
      ]
     },
     "execution_count": 15,
     "metadata": {},
     "output_type": "execute_result"
    }
   ],
   "source": [
    "#= 🎯 Metryka dokładności =#\n",
    "accuracy(m, x, y) = mean((vec(m(x)) .> 0.5) .== (y .> 0.5))"
   ]
  },
  {
   "cell_type": "code",
   "execution_count": 16,
   "id": "dfa92191",
   "metadata": {},
   "outputs": [
    {
     "name": "stdout",
     "output_type": "stream",
     "text": [
      "Epoch: 1  (7.78s)   Train: (l: 0.7005, a: 0.5582)   Test: (l: 0.6845, a: 0.5813)\n",
      "Epoch: 2  (6.86s)   Train: (l: 0.6907, a: 0.5598)   Test: (l: 0.6899, a: 0.5656)\n",
      "Epoch: 3  (6.88s)   Train: (l: 0.6881, a: 0.5663)   Test: (l: 0.6793, a: 0.5822)\n",
      "Epoch: 4  (7.03s)   Train: (l: 0.6797, a: 0.5917)   Test: (l: 0.6749, a: 0.5937)\n",
      "Epoch: 5  (7.30s)   Train: (l: 0.6753, a: 0.5958)   Test: (l: 0.6769, a: 0.5980)\n"
     ]
    }
   ],
   "source": [
    "#= 🚀 Trening modelu =#\n",
    "opt = NN.Adam(Float32(0.001))\n",
    "epochs = 5\n",
    "NN.train_model(model, dataset, X_test_f32, y_test, opt, epochs)"
   ]
  },
  {
   "cell_type": "code",
   "execution_count": null,
   "id": "d9c93a09-5ba4-4fbb-853a-3f51835c95a4",
   "metadata": {},
   "outputs": [],
   "source": []
  }
 ],
 "metadata": {
  "kernelspec": {
   "display_name": "Julia 1.11.5",
   "language": "julia",
   "name": "julia-1.11"
  },
  "language_info": {
   "file_extension": ".jl",
   "mimetype": "application/julia",
   "name": "julia",
   "version": "1.11.5"
  }
 },
 "nbformat": 4,
 "nbformat_minor": 5
}
