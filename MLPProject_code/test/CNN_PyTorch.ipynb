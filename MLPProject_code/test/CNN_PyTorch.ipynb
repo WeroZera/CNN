{
 "cells": [
  {
   "cell_type": "code",
   "execution_count": 1,
   "id": "cf0f06dd",
   "metadata": {},
   "outputs": [],
   "source": [
    "# PyTorch does not require project activation like Julia.\n",
    "# Install packages if needed:\n",
    "# !pip install torch torchvision"
   ]
  },
  {
   "cell_type": "code",
   "execution_count": 2,
   "id": "5cebd30b",
   "metadata": {},
   "outputs": [],
   "source": [
    "import torch\n",
    "import json\n",
    "import numpy as np\n",
    "from torch.utils.data import DataLoader, TensorDataset\n",
    "\n",
    "with open('data/imdb_dataset_prepared.json', 'r') as f:\n",
    "    data = json.load(f)\n",
    "\n",
    "# Load your preprocessed data\n",
    "# Assuming data is stored in npy format or similar for Python compatibility\n",
    "X_train = torch.tensor(data['X_train'], dtype=torch.long)-1\n",
    "y_train = torch.tensor(data['y_train'], dtype=torch.long)\n",
    "\n",
    "train_loader = DataLoader(TensorDataset(X_train, y_train), batch_size=64, shuffle=True)\n",
    "\n",
    "\n",
    "X_test = torch.tensor(data['X_test'], dtype=torch.long)-1\n",
    "y_test = torch.tensor(data['y_test'], dtype=torch.long)\n",
    "test_loader = DataLoader(TensorDataset(X_test, y_test), batch_size=64)"
   ]
  },
  {
   "cell_type": "code",
   "execution_count": 3,
   "id": "d8c5ce3c",
   "metadata": {},
   "outputs": [],
   "source": [
    "import torch.nn as nn\n",
    "\n",
    "vocab_size = X_train.max().item()+1  # or use len(vocab)\n",
    "embedding_dim = 50\n",
    "\n",
    "class CNNTextClassifier(nn.Module):\n",
    "    def __init__(self, vocab_size, embedding_dim, num_classes):\n",
    "        super().__init__()\n",
    "        self.embedding = nn.Embedding(vocab_size, embedding_dim)\n",
    "        self.conv1 = nn.Conv1d(embedding_dim, 100, kernel_size=3, padding=1)\n",
    "        self.relu = nn.ReLU()\n",
    "        self.pool = nn.AdaptiveMaxPool1d(1)\n",
    "        self.flatten = nn.Flatten()\n",
    "        self.fc = nn.Linear(100, num_classes)\n",
    "\n",
    "    def forward(self, x):\n",
    "        x = self.embedding(x)\n",
    "        x = x.permute(0, 2, 1)  # batch x channels x seq_len\n",
    "        x = self.relu(self.conv1(x))\n",
    "        x = self.pool(x)\n",
    "        x = self.flatten(x)\n",
    "        return self.fc(x)\n",
    "\n",
    "num_classes = len(torch.unique(y_train))\n",
    "model = CNNTextClassifier(vocab_size, embedding_dim, num_classes)"
   ]
  },
  {
   "cell_type": "code",
   "execution_count": 4,
   "id": "966addd7",
   "metadata": {},
   "outputs": [
    {
     "data": {
      "text/plain": [
       "tensor([[ 9.0951e-01, -2.0702e-01, -9.0611e-02,  ..., -7.7261e-01,\n",
       "         -6.0396e-01, -3.1136e-01],\n",
       "        [-5.8014e-01, -1.1316e+00,  4.4189e-01,  ..., -5.6616e-02,\n",
       "          1.7220e-01,  1.2622e+00],\n",
       "        [ 2.7137e-01,  6.1347e-01, -5.2498e-01,  ..., -1.7192e+00,\n",
       "         -2.6018e-01,  5.7005e-01],\n",
       "        ...,\n",
       "        [ 4.5505e-01, -1.4904e-03, -4.5487e-01,  ..., -1.0215e+00,\n",
       "          9.8155e-01, -5.0673e-01],\n",
       "        [ 1.4323e-02, -7.4624e-01,  3.5701e-01,  ..., -4.6867e-01,\n",
       "         -7.9873e-02, -8.9164e-01],\n",
       "        [ 0.0000e+00,  0.0000e+00,  0.0000e+00,  ...,  0.0000e+00,\n",
       "          0.0000e+00,  0.0000e+00]])"
      ]
     },
     "execution_count": 4,
     "metadata": {},
     "output_type": "execute_result"
    }
   ],
   "source": [
    "# Load pretrained GloVe embeddings (assumed to be preprocessed into a numpy array matching vocab size)\n",
    "embedding_tensor = torch.tensor(data['embeddings'], dtype=torch.float)\n",
    "model.embedding.weight.data.copy_(embedding_tensor)"
   ]
  },
  {
   "cell_type": "code",
   "execution_count": 5,
   "id": "3737b5de",
   "metadata": {},
   "outputs": [
    {
     "name": "stdout",
     "output_type": "stream",
     "text": [
      "Epoch: 1 (7.73s) \tTrain: (l: 0.42, a: 80.40%) \tTest: (a: 85.02%) \tMemory Allocated: 20.293 MB\n",
      "Epoch: 2 (8.88s) \tTrain: (l: 0.28, a: 88.24%) \tTest: (a: 87.66%) \tMemory Allocated: -0.211 MB\n",
      "Epoch: 3 (14.51s) \tTrain: (l: 0.21, a: 91.92%) \tTest: (a: 88.11%) \tMemory Allocated: -0.926 MB\n",
      "Epoch: 4 (14.01s) \tTrain: (l: 0.14, a: 95.25%) \tTest: (a: 87.91%) \tMemory Allocated: -0.043 MB\n",
      "Epoch: 5 (14.67s) \tTrain: (l: 0.09, a: 97.58%) \tTest: (a: 87.74%) \tMemory Allocated: -0.043 MB\n"
     ]
    }
   ],
   "source": [
    "import time\n",
    "from torch.optim import Adam\n",
    "from torch.nn import CrossEntropyLoss\n",
    "import psutil\n",
    "import os\n",
    "\n",
    "batch_size = 64\n",
    "dataloader = DataLoader(TensorDataset(X_train, y_train), batch_size=batch_size, shuffle=True)\n",
    "\n",
    "optimizer = Adam(model.parameters())\n",
    "criterion = CrossEntropyLoss()\n",
    "\n",
    "process = psutil.Process(os.getpid()) \n",
    "\n",
    "for epoch in range(5):\n",
    "    total_loss = 0.0\n",
    "    total_acc = 0.0\n",
    "    num_batches = 0\n",
    "\n",
    "    mem_before = process.memory_info().rss  # bytes\n",
    "\n",
    "    start_time = time.time()\n",
    "    model.train()\n",
    "    for xb, yb in train_loader:\n",
    "        optimizer.zero_grad()\n",
    "        preds = model(xb)\n",
    "        loss = criterion(preds, yb)\n",
    "        loss.backward()\n",
    "        optimizer.step()\n",
    "\n",
    "        total_loss += loss.item()\n",
    "        num_batches += 1\n",
    "\n",
    "        predicted_labels = preds.argmax(dim=1)\n",
    "        total_acc += (predicted_labels == yb).float().mean().item()\n",
    "\n",
    "    elapsed = time.time() - start_time\n",
    "    mem_after = process.memory_info().rss  # bytes\n",
    "\n",
    "    avg_loss = total_loss / num_batches\n",
    "    avg_acc = total_acc / num_batches * 100  # percentage\n",
    "\n",
    "    # Evaluation\n",
    "    model.eval()\n",
    "    correct = 0\n",
    "    total = 0\n",
    "    with torch.no_grad():\n",
    "        for xb, yb in test_loader:\n",
    "            preds = model(xb)\n",
    "            pred_labels = preds.argmax(dim=1)\n",
    "            correct += (pred_labels == yb).sum().item()\n",
    "            total += yb.size(0)\n",
    "\n",
    "    test_acc = correct / total * 100\n",
    "\n",
    "    mem_used_MB = (mem_after - mem_before) / (1024 ** 2)\n",
    "\n",
    "    print(f\"Epoch: {epoch+1} ({elapsed:.2f}s) \\tTrain: (l: {avg_loss:.2f}, a: {avg_acc:.2f}%) \"\n",
    "          f\"\\tTest: (a: {test_acc:.2f}%) \\tMemory Allocated: {mem_used_MB:.3f} MB\")"
   ]
  }
 ],
 "metadata": {
  "kernelspec": {
   "display_name": "Python 3",
   "language": "python",
   "name": "python3"
  },
  "language_info": {
   "codemirror_mode": {
    "name": "ipython",
    "version": 3
   },
   "file_extension": ".py",
   "mimetype": "text/x-python",
   "name": "python",
   "nbconvert_exporter": "python",
   "pygments_lexer": "ipython3",
   "version": "3.12.4"
  }
 },
 "nbformat": 4,
 "nbformat_minor": 5
}
